{
 "cells": [
  {
   "cell_type": "markdown",
   "metadata": {},
   "source": [
    "**Задание 1**\n",
    "Скачайте с сайта https://grouplens.org/datasets/movielens/ датасет любого размера. Определите какому фильму было выставлено больше всего оценок 5.0.\n"
   ]
  },
  {
   "cell_type": "code",
   "execution_count": 1,
   "metadata": {},
   "outputs": [],
   "source": [
    "import pandas as pd"
   ]
  },
  {
   "cell_type": "code",
   "execution_count": 225,
   "metadata": {},
   "outputs": [],
   "source": [
    "ds = pd.read_csv('ratings.csv')\n",
    "ds2 = pd.read_csv('movies.csv')"
   ]
  },
  {
   "cell_type": "code",
   "execution_count": 226,
   "metadata": {},
   "outputs": [],
   "source": [
    "merged = ds.merge(ds2, on='movieId', how='left')"
   ]
  },
  {
   "cell_type": "code",
   "execution_count": 227,
   "metadata": {},
   "outputs": [],
   "source": [
    "new_data = merged.filter(items = ['rating', 'title'])\n"
   ]
  },
  {
   "cell_type": "code",
   "execution_count": 228,
   "metadata": {},
   "outputs": [],
   "source": [
    "best = new_data[new_data.rating == 5.0 ]"
   ]
  },
  {
   "cell_type": "code",
   "execution_count": 229,
   "metadata": {},
   "outputs": [
    {
     "data": {
      "text/plain": [
       "Shawshank Redemption, The (1994)             153\n",
       "Pulp Fiction (1994)                          123\n",
       "Forrest Gump (1994)                          116\n",
       "Matrix, The (1999)                           109\n",
       "Star Wars: Episode IV - A New Hope (1977)    104\n",
       "Name: title, dtype: int64"
      ]
     },
     "execution_count": 229,
     "metadata": {},
     "output_type": "execute_result"
    }
   ],
   "source": [
    "best['title'].value_counts().head()"
   ]
  },
  {
   "cell_type": "code",
   "execution_count": null,
   "metadata": {},
   "outputs": [],
   "source": []
  },
  {
   "cell_type": "markdown",
   "metadata": {},
   "source": [
    "**Задание 2** \n",
    "По данным файла power.csv посчитайте суммарное потребление стран Прибалтики (Латвия, Литва и Эстония) категорий 4, 12 и 21 за период с 2005 по 2010 года. Не учитывайте в расчетах отрицательные значения quantity.\n"
   ]
  },
  {
   "cell_type": "code",
   "execution_count": 155,
   "metadata": {},
   "outputs": [],
   "source": [
    "countries = pd.read_csv('power.csv')"
   ]
  },
  {
   "cell_type": "code",
   "execution_count": 160,
   "metadata": {},
   "outputs": [
    {
     "data": {
      "text/plain": [
       "array(['Lithuania'], dtype=object)"
      ]
     },
     "execution_count": 160,
     "metadata": {},
     "output_type": "execute_result"
    }
   ],
   "source": [
    "countries[ countries['country'].str.contains('Lith',case=False) ]['country'].unique()"
   ]
  },
  {
   "cell_type": "code",
   "execution_count": 161,
   "metadata": {},
   "outputs": [
    {
     "data": {
      "text/plain": [
       "array(['Estonia', 'State of Palestine', 'Timor-Leste'], dtype=object)"
      ]
     },
     "execution_count": 161,
     "metadata": {},
     "output_type": "execute_result"
    }
   ],
   "source": [
    "countries[ countries['country'].str.contains('est',case=False) ]['country'].unique()"
   ]
  },
  {
   "cell_type": "code",
   "execution_count": 162,
   "metadata": {},
   "outputs": [
    {
     "data": {
      "text/plain": [
       "array(['Latvia'], dtype=object)"
      ]
     },
     "execution_count": 162,
     "metadata": {},
     "output_type": "execute_result"
    }
   ],
   "source": [
    "countries[ countries['country'].str.contains('Lat',case=False) ]['country'].unique()"
   ]
  },
  {
   "cell_type": "code",
   "execution_count": 221,
   "metadata": {},
   "outputs": [],
   "source": [
    "filtered_countries = countries[ (countries['country']=='Lithuania') | (countries['country']=='Estonia')\\\n",
    "                               |(countries['country']=='Latvia')]"
   ]
  },
  {
   "cell_type": "code",
   "execution_count": 222,
   "metadata": {},
   "outputs": [],
   "source": [
    "s = filtered_countries.loc[(filtered_countries['year']>=2005)& (filtered_countries['year']<=2010)]"
   ]
  },
  {
   "cell_type": "code",
   "execution_count": 223,
   "metadata": {},
   "outputs": [],
   "source": [
    "x = s.query('(quantity > 0) & ((category== 4)|(category== 12)|(category == 21))')"
   ]
  },
  {
   "cell_type": "code",
   "execution_count": 224,
   "metadata": {},
   "outputs": [
    {
     "data": {
      "text/plain": [
       "240580.0"
      ]
     },
     "execution_count": 224,
     "metadata": {},
     "output_type": "execute_result"
    }
   ],
   "source": [
    "x['quantity'].sum()"
   ]
  },
  {
   "cell_type": "markdown",
   "metadata": {},
   "source": [
    "**Задание 3**\n",
    "Выберите страницу любого сайта с табличными данными. Импортируйте таблицы в pandas dataframe.\n",
    "Примеры страниц (необязательно брать именно эти): \n",
    "https://fortrader.org/quotes\n",
    "https://www.finanz.ru/valyuty/v-realnom-vremeni\n"
   ]
  },
  {
   "cell_type": "code",
   "execution_count": 51,
   "metadata": {},
   "outputs": [
    {
     "data": {
      "text/html": [
       "<div>\n",
       "<style scoped>\n",
       "    .dataframe tbody tr th:only-of-type {\n",
       "        vertical-align: middle;\n",
       "    }\n",
       "\n",
       "    .dataframe tbody tr th {\n",
       "        vertical-align: top;\n",
       "    }\n",
       "\n",
       "    .dataframe thead th {\n",
       "        text-align: right;\n",
       "    }\n",
       "</style>\n",
       "<table border=\"1\" class=\"dataframe\">\n",
       "  <thead>\n",
       "    <tr style=\"text-align: right;\">\n",
       "      <th></th>\n",
       "      <th>Type</th>\n",
       "      <th>Last</th>\n",
       "      <th>Chg.</th>\n",
       "      <th>Chg.%</th>\n",
       "      <th>Time</th>\n",
       "    </tr>\n",
       "  </thead>\n",
       "  <tbody>\n",
       "    <tr>\n",
       "      <td>0</td>\n",
       "      <td>Bitcoin Курс биткоина</td>\n",
       "      <td>9311.090000</td>\n",
       "      <td>-338.36</td>\n",
       "      <td>-3.51</td>\n",
       "      <td>NaN</td>\n",
       "    </tr>\n",
       "    <tr>\n",
       "      <td>1</td>\n",
       "      <td>Litecoin Курс лайткоин к доллару (LTC/USD)</td>\n",
       "      <td>70.723000</td>\n",
       "      <td>-4.952</td>\n",
       "      <td>-6.544</td>\n",
       "      <td>NaN</td>\n",
       "    </tr>\n",
       "    <tr>\n",
       "      <td>2</td>\n",
       "      <td>BitcoinCash Курс Биткоин кеш к доллару США (BC...</td>\n",
       "      <td>349.010000</td>\n",
       "      <td>-28.36</td>\n",
       "      <td>-7.52</td>\n",
       "      <td>NaN</td>\n",
       "    </tr>\n",
       "    <tr>\n",
       "      <td>3</td>\n",
       "      <td>Dash Dash</td>\n",
       "      <td>96.130000</td>\n",
       "      <td>-7.55</td>\n",
       "      <td>-7.28</td>\n",
       "      <td>NaN</td>\n",
       "    </tr>\n",
       "    <tr>\n",
       "      <td>4</td>\n",
       "      <td>Ripple Ripple</td>\n",
       "      <td>0.254010</td>\n",
       "      <td>-0.01677</td>\n",
       "      <td>-6.19322</td>\n",
       "      <td>NaN</td>\n",
       "    </tr>\n",
       "    <tr>\n",
       "      <td>5</td>\n",
       "      <td>Ethereum Ethereum</td>\n",
       "      <td>248.472000</td>\n",
       "      <td>-15.838</td>\n",
       "      <td>-5.992</td>\n",
       "      <td>NaN</td>\n",
       "    </tr>\n",
       "    <tr>\n",
       "      <td>6</td>\n",
       "      <td>EmerCoin EmerCoin</td>\n",
       "      <td>NaN</td>\n",
       "      <td>нет данных</td>\n",
       "      <td>нет данных</td>\n",
       "      <td>NaN</td>\n",
       "    </tr>\n",
       "    <tr>\n",
       "      <td>7</td>\n",
       "      <td>NameCoin NameCoin</td>\n",
       "      <td>NaN</td>\n",
       "      <td>нет данных</td>\n",
       "      <td>нет данных</td>\n",
       "      <td>NaN</td>\n",
       "    </tr>\n",
       "    <tr>\n",
       "      <td>8</td>\n",
       "      <td>PeerCoin PeerCoin</td>\n",
       "      <td>NaN</td>\n",
       "      <td>нет данных</td>\n",
       "      <td>нет данных</td>\n",
       "      <td>NaN</td>\n",
       "    </tr>\n",
       "    <tr>\n",
       "      <td>9</td>\n",
       "      <td>BTCRUB биткоин в рублях</td>\n",
       "      <td>247059.000000</td>\n",
       "      <td>нет данных</td>\n",
       "      <td>нет данных</td>\n",
       "      <td>NaN</td>\n",
       "    </tr>\n",
       "    <tr>\n",
       "      <td>10</td>\n",
       "      <td>BTCEUR биткоин в евро</td>\n",
       "      <td>8559.910000</td>\n",
       "      <td>нет данных</td>\n",
       "      <td>нет данных</td>\n",
       "      <td>NaN</td>\n",
       "    </tr>\n",
       "    <tr>\n",
       "      <td>11</td>\n",
       "      <td>Zcash (ZEC)</td>\n",
       "      <td>57.096000</td>\n",
       "      <td>-3.904</td>\n",
       "      <td>-6.400</td>\n",
       "      <td>NaN</td>\n",
       "    </tr>\n",
       "    <tr>\n",
       "      <td>12</td>\n",
       "      <td>NEO (NEO)</td>\n",
       "      <td>12.523000</td>\n",
       "      <td>-0.872</td>\n",
       "      <td>-6.506</td>\n",
       "      <td>NaN</td>\n",
       "    </tr>\n",
       "    <tr>\n",
       "      <td>13</td>\n",
       "      <td>EOS (EOS)</td>\n",
       "      <td>4.092500</td>\n",
       "      <td>-0.0353</td>\n",
       "      <td>-0.8552</td>\n",
       "      <td>NaN</td>\n",
       "    </tr>\n",
       "    <tr>\n",
       "      <td>14</td>\n",
       "      <td>TRON (TRX)</td>\n",
       "      <td>0.018796</td>\n",
       "      <td>-0.001079</td>\n",
       "      <td>-5.428931</td>\n",
       "      <td>NaN</td>\n",
       "    </tr>\n",
       "    <tr>\n",
       "      <td>15</td>\n",
       "      <td>Monero</td>\n",
       "      <td>76.268000</td>\n",
       "      <td>-2.787</td>\n",
       "      <td>-3.525</td>\n",
       "      <td>NaN</td>\n",
       "    </tr>\n",
       "    <tr>\n",
       "      <td>16</td>\n",
       "      <td>Cardano</td>\n",
       "      <td>0.058258</td>\n",
       "      <td>-0.000702</td>\n",
       "      <td>-1.190638</td>\n",
       "      <td>NaN</td>\n",
       "    </tr>\n",
       "    <tr>\n",
       "      <td>17</td>\n",
       "      <td>IOTA</td>\n",
       "      <td>0.246810</td>\n",
       "      <td>-0.01496</td>\n",
       "      <td>-5.71314</td>\n",
       "      <td>NaN</td>\n",
       "    </tr>\n",
       "    <tr>\n",
       "      <td>18</td>\n",
       "      <td>ETC/USD эфириум классик, ETC</td>\n",
       "      <td>9.149600</td>\n",
       "      <td>-0.2176</td>\n",
       "      <td>-2.3230</td>\n",
       "      <td>NaN</td>\n",
       "    </tr>\n",
       "  </tbody>\n",
       "</table>\n",
       "</div>"
      ],
      "text/plain": [
       "                                                 Type           Last  \\\n",
       "0                               Bitcoin Курс биткоина    9311.090000   \n",
       "1          Litecoin Курс лайткоин к доллару (LTC/USD)      70.723000   \n",
       "2   BitcoinCash Курс Биткоин кеш к доллару США (BC...     349.010000   \n",
       "3                                           Dash Dash      96.130000   \n",
       "4                                       Ripple Ripple       0.254010   \n",
       "5                                   Ethereum Ethereum     248.472000   \n",
       "6                                   EmerCoin EmerCoin            NaN   \n",
       "7                                   NameCoin NameCoin            NaN   \n",
       "8                                   PeerCoin PeerCoin            NaN   \n",
       "9                             BTCRUB биткоин в рублях  247059.000000   \n",
       "10                              BTCEUR биткоин в евро    8559.910000   \n",
       "11                                        Zcash (ZEC)      57.096000   \n",
       "12                                          NEO (NEO)      12.523000   \n",
       "13                                          EOS (EOS)       4.092500   \n",
       "14                                         TRON (TRX)       0.018796   \n",
       "15                                             Monero      76.268000   \n",
       "16                                            Cardano       0.058258   \n",
       "17                                               IOTA       0.246810   \n",
       "18                       ETC/USD эфириум классик, ETC       9.149600   \n",
       "\n",
       "          Chg.       Chg.%  Time  \n",
       "0      -338.36       -3.51   NaN  \n",
       "1       -4.952      -6.544   NaN  \n",
       "2       -28.36       -7.52   NaN  \n",
       "3        -7.55       -7.28   NaN  \n",
       "4     -0.01677    -6.19322   NaN  \n",
       "5      -15.838      -5.992   NaN  \n",
       "6   нет данных  нет данных   NaN  \n",
       "7   нет данных  нет данных   NaN  \n",
       "8   нет данных  нет данных   NaN  \n",
       "9   нет данных  нет данных   NaN  \n",
       "10  нет данных  нет данных   NaN  \n",
       "11      -3.904      -6.400   NaN  \n",
       "12      -0.872      -6.506   NaN  \n",
       "13     -0.0353     -0.8552   NaN  \n",
       "14   -0.001079   -5.428931   NaN  \n",
       "15      -2.787      -3.525   NaN  \n",
       "16   -0.000702   -1.190638   NaN  \n",
       "17    -0.01496    -5.71314   NaN  \n",
       "18     -0.2176     -2.3230   NaN  "
      ]
     },
     "execution_count": 51,
     "metadata": {},
     "output_type": "execute_result"
    }
   ],
   "source": [
    "pd.read_html('https://fortrader.org/quotes')[5]"
   ]
  },
  {
   "cell_type": "code",
   "execution_count": 54,
   "metadata": {},
   "outputs": [
    {
     "data": {
      "text/html": [
       "<div>\n",
       "<style scoped>\n",
       "    .dataframe tbody tr th:only-of-type {\n",
       "        vertical-align: middle;\n",
       "    }\n",
       "\n",
       "    .dataframe tbody tr th {\n",
       "        vertical-align: top;\n",
       "    }\n",
       "\n",
       "    .dataframe thead th {\n",
       "        text-align: right;\n",
       "    }\n",
       "</style>\n",
       "<table border=\"1\" class=\"dataframe\">\n",
       "  <thead>\n",
       "    <tr style=\"text-align: right;\">\n",
       "      <th></th>\n",
       "      <th>Type</th>\n",
       "      <th>Last</th>\n",
       "      <th>Chg.</th>\n",
       "      <th>Chg.%</th>\n",
       "      <th>Time</th>\n",
       "    </tr>\n",
       "  </thead>\n",
       "  <tbody>\n",
       "    <tr>\n",
       "      <td>0</td>\n",
       "      <td>Фьючерс РТС Курс фьючерса на индекс РТС</td>\n",
       "      <td>118130.00</td>\n",
       "      <td>нет данных</td>\n",
       "      <td>нет данных</td>\n",
       "      <td>NaN</td>\n",
       "    </tr>\n",
       "    <tr>\n",
       "      <td>1</td>\n",
       "      <td>РТС Курс индекса РТС</td>\n",
       "      <td>1644.25</td>\n",
       "      <td>нет данных</td>\n",
       "      <td>нет данных</td>\n",
       "      <td>NaN</td>\n",
       "    </tr>\n",
       "    <tr>\n",
       "      <td>2</td>\n",
       "      <td>DAX30</td>\n",
       "      <td>12805.10</td>\n",
       "      <td>-230.1</td>\n",
       "      <td>-1.8</td>\n",
       "      <td>NaN</td>\n",
       "    </tr>\n",
       "    <tr>\n",
       "      <td>3</td>\n",
       "      <td>Индекс Dow 30 (DJI)</td>\n",
       "      <td>27611.00</td>\n",
       "      <td>-350</td>\n",
       "      <td>-1</td>\n",
       "      <td>NaN</td>\n",
       "    </tr>\n",
       "    <tr>\n",
       "      <td>4</td>\n",
       "      <td>FTSE</td>\n",
       "      <td>7137.70</td>\n",
       "      <td>-19.1</td>\n",
       "      <td>-0.3</td>\n",
       "      <td>NaN</td>\n",
       "    </tr>\n",
       "    <tr>\n",
       "      <td>5</td>\n",
       "      <td>CAC 40</td>\n",
       "      <td>5677.20</td>\n",
       "      <td>-101.3</td>\n",
       "      <td>-1.8</td>\n",
       "      <td>NaN</td>\n",
       "    </tr>\n",
       "    <tr>\n",
       "      <td>6</td>\n",
       "      <td>Nasdaq 100</td>\n",
       "      <td>9023.80</td>\n",
       "      <td>-55.83</td>\n",
       "      <td>-0.61</td>\n",
       "      <td>NaN</td>\n",
       "    </tr>\n",
       "    <tr>\n",
       "      <td>7</td>\n",
       "      <td>Russell 2000</td>\n",
       "      <td>1595.70</td>\n",
       "      <td>-32.4</td>\n",
       "      <td>-2.0</td>\n",
       "      <td>NaN</td>\n",
       "    </tr>\n",
       "    <tr>\n",
       "      <td>8</td>\n",
       "      <td>S&amp;P 500</td>\n",
       "      <td>3190.09</td>\n",
       "      <td>+3 094.88</td>\n",
       "      <td>+3 250.58</td>\n",
       "      <td>NaN</td>\n",
       "    </tr>\n",
       "    <tr>\n",
       "      <td>9</td>\n",
       "      <td>IBEX 35</td>\n",
       "      <td>9251.80</td>\n",
       "      <td>-223.5</td>\n",
       "      <td>-2.4</td>\n",
       "      <td>NaN</td>\n",
       "    </tr>\n",
       "    <tr>\n",
       "      <td>10</td>\n",
       "      <td>Nikkei 225</td>\n",
       "      <td>22166.00</td>\n",
       "      <td>-648</td>\n",
       "      <td>-3</td>\n",
       "      <td>NaN</td>\n",
       "    </tr>\n",
       "    <tr>\n",
       "      <td>11</td>\n",
       "      <td>Euro Stoxx 50</td>\n",
       "      <td>3574.60</td>\n",
       "      <td>-65.2</td>\n",
       "      <td>-1.8</td>\n",
       "      <td>NaN</td>\n",
       "    </tr>\n",
       "    <tr>\n",
       "      <td>12</td>\n",
       "      <td>S&amp;P/ASX 200</td>\n",
       "      <td>6779.00</td>\n",
       "      <td>нет данных</td>\n",
       "      <td>нет данных</td>\n",
       "      <td>NaN</td>\n",
       "    </tr>\n",
       "    <tr>\n",
       "      <td>13</td>\n",
       "      <td>MIB</td>\n",
       "      <td>23055.00</td>\n",
       "      <td>нет данных</td>\n",
       "      <td>нет данных</td>\n",
       "      <td>NaN</td>\n",
       "    </tr>\n",
       "  </tbody>\n",
       "</table>\n",
       "</div>"
      ],
      "text/plain": [
       "                                       Type       Last        Chg.  \\\n",
       "0   Фьючерс РТС Курс фьючерса на индекс РТС  118130.00  нет данных   \n",
       "1                      РТС Курс индекса РТС    1644.25  нет данных   \n",
       "2                                     DAX30   12805.10      -230.1   \n",
       "3                       Индекс Dow 30 (DJI)   27611.00        -350   \n",
       "4                                      FTSE    7137.70       -19.1   \n",
       "5                                    CAC 40    5677.20      -101.3   \n",
       "6                                Nasdaq 100    9023.80      -55.83   \n",
       "7                              Russell 2000    1595.70       -32.4   \n",
       "8                                   S&P 500    3190.09   +3 094.88   \n",
       "9                                   IBEX 35    9251.80      -223.5   \n",
       "10                               Nikkei 225   22166.00        -648   \n",
       "11                            Euro Stoxx 50    3574.60       -65.2   \n",
       "12                              S&P/ASX 200    6779.00  нет данных   \n",
       "13                                      MIB   23055.00  нет данных   \n",
       "\n",
       "         Chg.%  Time  \n",
       "0   нет данных   NaN  \n",
       "1   нет данных   NaN  \n",
       "2         -1.8   NaN  \n",
       "3           -1   NaN  \n",
       "4         -0.3   NaN  \n",
       "5         -1.8   NaN  \n",
       "6        -0.61   NaN  \n",
       "7         -2.0   NaN  \n",
       "8    +3 250.58   NaN  \n",
       "9         -2.4   NaN  \n",
       "10          -3   NaN  \n",
       "11        -1.8   NaN  \n",
       "12  нет данных   NaN  \n",
       "13  нет данных   NaN  "
      ]
     },
     "execution_count": 54,
     "metadata": {},
     "output_type": "execute_result"
    }
   ],
   "source": [
    "pd.read_html('https://fortrader.org/quotes')[6]"
   ]
  }
 ],
 "metadata": {
  "kernelspec": {
   "display_name": "Python 3",
   "language": "python",
   "name": "python3"
  },
  "language_info": {
   "codemirror_mode": {
    "name": "ipython",
    "version": 3
   },
   "file_extension": ".py",
   "mimetype": "text/x-python",
   "name": "python",
   "nbconvert_exporter": "python",
   "pygments_lexer": "ipython3",
   "version": "3.7.4"
  }
 },
 "nbformat": 4,
 "nbformat_minor": 2
}
